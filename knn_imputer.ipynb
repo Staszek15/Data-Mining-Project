{
 "cells": [
  {
   "cell_type": "code",
   "execution_count": 1,
   "metadata": {},
   "outputs": [],
   "source": [
    "from sklearn.impute import KNNImputer\n",
    "from sklearn.preprocessing import LabelEncoder\n",
    "from pathlib import Path\n",
    "import pandas as pd\n",
    "import seaborn as sns\n",
    "import matplotlib.pyplot as plt"
   ]
  },
  {
   "cell_type": "code",
   "execution_count": 2,
   "metadata": {},
   "outputs": [],
   "source": [
    "df_train = pd.read_csv(Path(\"adults_data\",\"adults_cleaned_train_data.csv\"))\n",
    "df_test = pd.read_csv(Path(\"adults_data\",\"adults_cleaned_test_data.csv\"))"
   ]
  },
  {
   "cell_type": "code",
   "execution_count": 3,
   "metadata": {},
   "outputs": [],
   "source": [
    "def data_transformation_for_KNN(data_to_trans):\n",
    "\n",
    "    data = data_to_trans.copy()\n",
    "    data['income'] = data['income'].replace({\"<=50K\":0,\n",
    "                                            \">50K\":1})\n",
    "    \n",
    "    pd.set_option('future.no_silent_downcasting', True)\n",
    "    data = data.infer_objects(copy=False)\n",
    "    \n",
    "    to_compare = data.copy()\n",
    "    occupation_indices= data[data['occupation'].isnull()].index\n",
    "    region_indices = data[data['region'].isnull()].index    \n",
    "    \n",
    "    encoder_dict = {}\n",
    "\n",
    "    for column in data.columns:\n",
    "        if data[column].dtype in [\"object\",\"category\"]:\n",
    "            encoder = LabelEncoder()\n",
    "            encoder_dict[column] = encoder\n",
    "            data[column] = encoder.fit_transform(data[column])\n",
    "    miss_occ_as_nr = data.loc[occupation_indices[0],\"occupation\"]\n",
    "    miss_reg_as_nr = data.loc[region_indices[0],\"region\"]\n",
    "    data['occupation'] = data['occupation'].replace({miss_occ_as_nr:None})\n",
    "    data['region'] = data['region'].replace({miss_reg_as_nr:None})\n",
    "    \n",
    "    X = data.iloc[:,:-1]\n",
    "    Y = data.iloc[:,-1]\n",
    "    \n",
    "    return X, Y, encoder_dict, to_compare"
   ]
  },
  {
   "cell_type": "code",
   "execution_count": 4,
   "metadata": {},
   "outputs": [],
   "source": [
    "def KNN_imputation(data_to_impute):\n",
    "    \n",
    "    data = data_to_impute.copy()\n",
    "    \n",
    "    KNN_X, KNN_Y, encoders, to_compare = data_transformation_for_KNN(data)\n",
    "    \n",
    "    imputer = KNNImputer(n_neighbors=5, weights=\"distance\", metric=\"nan_euclidean\")\n",
    "                                \n",
    "    imputer.fit(KNN_X)\n",
    "    X_transformed = pd.DataFrame(imputer.transform(KNN_X),\n",
    "                                 columns=KNN_X.columns)\n",
    "    \n",
    "    for column in encoders.keys():\n",
    "        X_transformed[column] = encoders[column].inverse_transform(X_transformed[column].astype(int))\n",
    "    \n",
    "    X_transformed.index = KNN_X.index\n",
    "    return X_transformed, to_compare\n",
    "    "
   ]
  },
  {
   "cell_type": "markdown",
   "metadata": {},
   "source": [
    "### train imputation"
   ]
  },
  {
   "cell_type": "code",
   "execution_count": 5,
   "metadata": {},
   "outputs": [
    {
     "name": "stderr",
     "output_type": "stream",
     "text": [
      "C:\\Users\\wypyc\\AppData\\Local\\Temp\\ipykernel_26108\\3450783541.py:4: FutureWarning: Downcasting behavior in `replace` is deprecated and will be removed in a future version. To retain the old behavior, explicitly call `result.infer_objects(copy=False)`. To opt-in to the future behavior, set `pd.set_option('future.no_silent_downcasting', True)`\n",
      "  data['income'] = data['income'].replace({\"<=50K\":0,\n"
     ]
    }
   ],
   "source": [
    "dencoded, org = KNN_imputation(df_train) \n",
    "\n",
    "dencoded['income'] = org['income']\n",
    "dencoded.to_csv(Path(\"adults_data\",\"adults_imputed_train_data.csv\"), index=None)"
   ]
  },
  {
   "cell_type": "markdown",
   "metadata": {},
   "source": [
    "### test imputation"
   ]
  },
  {
   "cell_type": "code",
   "execution_count": 6,
   "metadata": {},
   "outputs": [],
   "source": [
    "total_df = pd.concat([dencoded, df_test], ignore_index=True)\n",
    "dencoded_test, org_test = KNN_imputation(total_df) \n",
    "\n",
    "dencoded_test['income'] = org_test['income']\n",
    "dencoded_test.to_csv(Path(\"adults_data\",\"adults_imputed_test_data.csv\"), index=None)"
   ]
  },
  {
   "cell_type": "code",
   "execution_count": 7,
   "metadata": {},
   "outputs": [
    {
     "data": {
      "text/plain": [
       "age                 0\n",
       "workclass           0\n",
       "education-num       0\n",
       "marital-status      0\n",
       "occupation          1\n",
       "relationship        0\n",
       "race                0\n",
       "sex                 0\n",
       "capital             0\n",
       "hours-per-week      0\n",
       "region            192\n",
       "income              0\n",
       "dtype: int64"
      ]
     },
     "execution_count": 7,
     "metadata": {},
     "output_type": "execute_result"
    }
   ],
   "source": [
    "(dencoded_test != org_test).sum()"
   ]
  },
  {
   "cell_type": "code",
   "execution_count": 8,
   "metadata": {},
   "outputs": [
    {
     "data": {
      "text/plain": [
       "age                 0\n",
       "workclass           0\n",
       "education-num       0\n",
       "marital-status      0\n",
       "occupation          1\n",
       "relationship        0\n",
       "race                0\n",
       "sex                 0\n",
       "capital             0\n",
       "hours-per-week      0\n",
       "region            192\n",
       "income              0\n",
       "dtype: int64"
      ]
     },
     "execution_count": 8,
     "metadata": {},
     "output_type": "execute_result"
    }
   ],
   "source": [
    "df_test.isnull().sum()"
   ]
  }
 ],
 "metadata": {
  "kernelspec": {
   "display_name": "DM_venv",
   "language": "python",
   "name": "python3"
  },
  "language_info": {
   "codemirror_mode": {
    "name": "ipython",
    "version": 3
   },
   "file_extension": ".py",
   "mimetype": "text/x-python",
   "name": "python",
   "nbconvert_exporter": "python",
   "pygments_lexer": "ipython3",
   "version": "3.12.0"
  }
 },
 "nbformat": 4,
 "nbformat_minor": 2
}
