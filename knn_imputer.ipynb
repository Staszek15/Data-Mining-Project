{
 "cells": [
  {
   "cell_type": "code",
   "execution_count": 62,
   "metadata": {},
   "outputs": [],
   "source": [
    "from sklearn.impute import KNNImputer\n",
    "from sklearn.preprocessing import LabelEncoder\n",
    "from pathlib import Path\n",
    "import pandas as pd\n",
    "import seaborn as sns\n",
    "import matplotlib.pyplot as plt"
   ]
  },
  {
   "cell_type": "code",
   "execution_count": 4,
   "metadata": {},
   "outputs": [],
   "source": [
    "df_train = pd.read_csv(Path(\"adults_data\",\"adults_cleaned_train_data.csv\"))\n",
    "df_test = pd.read_csv(Path(\"adults_data\",\"adults_cleaned_test_data.csv\"))"
   ]
  },
  {
   "cell_type": "code",
   "execution_count": 5,
   "metadata": {},
   "outputs": [],
   "source": [
    "def data_transformation_for_KNN(data_to_trans):\n",
    "\n",
    "    data = data_to_trans.copy()\n",
    "    data['income'] = data['income'].replace({\"<=50K\":0,\n",
    "                                            \">50K\":1})\n",
    "    \n",
    "    pd.set_option('future.no_silent_downcasting', True)\n",
    "    data = data.infer_objects(copy=False)\n",
    "    \n",
    "    to_compare = data.copy()\n",
    "    occupation_indices= data[data['occupation'].isnull()].index\n",
    "    region_indices = data[data['region'].isnull()].index    \n",
    "    \n",
    "    encoder_dict = {}\n",
    "\n",
    "    for column in data.columns:\n",
    "        if data[column].dtype in [\"object\",\"category\"]:\n",
    "            encoder = LabelEncoder()\n",
    "            encoder_dict[column] = encoder\n",
    "            data[column] = encoder.fit_transform(data[column])\n",
    "    miss_occ_as_nr = data.loc[occupation_indices[0],\"occupation\"]\n",
    "    miss_reg_as_nr = data.loc[region_indices[0],\"region\"]\n",
    "    data['occupation'] = data['occupation'].replace({miss_occ_as_nr:None})\n",
    "    data['region'] = data['region'].replace({miss_reg_as_nr:None})\n",
    "    \n",
    "    X = data.iloc[:,:-1]\n",
    "    Y = data.iloc[:,-1]\n",
    "    \n",
    "    return X, Y, encoder_dict, to_compare"
   ]
  },
  {
   "cell_type": "code",
   "execution_count": 6,
   "metadata": {},
   "outputs": [],
   "source": [
    "def KNN_imputation(data_to_impute):\n",
    "    \n",
    "    data = data_to_impute.copy()\n",
    "    \n",
    "    KNN_X, KNN_Y, encoders, to_compare = data_transformation_for_KNN(data)\n",
    "    \n",
    "    imputer = KNNImputer(n_neighbors=5, weights=\"uniform\", metric=\"nan_euclidean\")\n",
    "                                \n",
    "    imputer.fit(KNN_X)\n",
    "    X_transformed = pd.DataFrame(imputer.transform(KNN_X),\n",
    "                                 columns=KNN_X.columns)\n",
    "    \n",
    "    for column in encoders.keys():\n",
    "        X_transformed[column] = encoders[column].inverse_transform(X_transformed[column].astype(int))\n",
    "    \n",
    "    X_transformed.index = KNN_X.index\n",
    "    return X_transformed, to_compare\n",
    "    "
   ]
  },
  {
   "cell_type": "markdown",
   "metadata": {},
   "source": [
    "### train imputation"
   ]
  },
  {
   "cell_type": "code",
   "execution_count": 7,
   "metadata": {},
   "outputs": [
    {
     "name": "stderr",
     "output_type": "stream",
     "text": [
      "C:\\Users\\wypyc\\AppData\\Local\\Temp\\ipykernel_11992\\3450783541.py:4: FutureWarning: Downcasting behavior in `replace` is deprecated and will be removed in a future version. To retain the old behavior, explicitly call `result.infer_objects(copy=False)`. To opt-in to the future behavior, set `pd.set_option('future.no_silent_downcasting', True)`\n",
      "  data['income'] = data['income'].replace({\"<=50K\":0,\n"
     ]
    }
   ],
   "source": [
    "dencoded, org = KNN_imputation(df_train) \n",
    "\n",
    "dencoded['income'] = org['income']\n",
    "dencoded.to_csv(Path(\"adults_data\",\"adults_imputed_train_data.csv\"), index=None)"
   ]
  },
  {
   "cell_type": "markdown",
   "metadata": {},
   "source": [
    "### test imputation"
   ]
  },
  {
   "cell_type": "code",
   "execution_count": 8,
   "metadata": {},
   "outputs": [],
   "source": [
    "total_df = pd.concat([dencoded, df_test], ignore_index=True)\n",
    "dencoded_test, org_test = KNN_imputation(total_df) \n",
    "\n",
    "dencoded_test['income'] = org_test['income']\n",
    "dencoded_test.to_csv(Path(\"adults_data\",\"adults_imputed_test_data.csv\"), index=None)"
   ]
  },
  {
   "cell_type": "code",
   "execution_count": 9,
   "metadata": {},
   "outputs": [
    {
     "data": {
      "text/plain": [
       "age                 0\n",
       "workclass           0\n",
       "fnlwgt              0\n",
       "education-num       0\n",
       "marital-status      0\n",
       "occupation          1\n",
       "relationship        0\n",
       "race                0\n",
       "sex                 0\n",
       "capital             0\n",
       "hours-per-week      0\n",
       "region            192\n",
       "income              0\n",
       "dtype: int64"
      ]
     },
     "execution_count": 9,
     "metadata": {},
     "output_type": "execute_result"
    }
   ],
   "source": [
    "(dencoded_test != org_test).sum()"
   ]
  },
  {
   "cell_type": "code",
   "execution_count": 10,
   "metadata": {},
   "outputs": [
    {
     "data": {
      "text/plain": [
       "age                 0\n",
       "workclass           0\n",
       "fnlwgt              0\n",
       "education-num       0\n",
       "marital-status      0\n",
       "occupation          1\n",
       "relationship        0\n",
       "race                0\n",
       "sex                 0\n",
       "capital             0\n",
       "hours-per-week      0\n",
       "region            192\n",
       "income              0\n",
       "dtype: int64"
      ]
     },
     "execution_count": 10,
     "metadata": {},
     "output_type": "execute_result"
    }
   ],
   "source": [
    "df_test.isnull().sum()"
   ]
  },
  {
   "cell_type": "markdown",
   "metadata": {},
   "source": [
    "# dummies"
   ]
  },
  {
   "cell_type": "code",
   "execution_count": 115,
   "metadata": {},
   "outputs": [],
   "source": [
    "def dummies(data_to_trans):\n",
    "\n",
    "    data = data_to_trans.copy()\n",
    "    data['income'] = data['income'].replace({\"<=50K\":0,\n",
    "                                            \">50K\":1})\n",
    "    \n",
    "    pd.set_option('future.no_silent_downcasting', True)\n",
    "    data = data.infer_objects(copy=False)\n",
    "    \n",
    "    to_compare = data.copy()\n",
    "    occupation_indices= data[data['occupation'].isnull()].index\n",
    "    region_indices = data[data['region'].isnull()].index    \n",
    "    \n",
    "    encoder_dict = {}\n",
    "\n",
    "    for column in data.columns:\n",
    "        if data[column].dtype in [\"object\",\"category\"]:\n",
    "            data_encoded = pd.get_dummies(data[column], prefix=column, dummy_na=True).astype(int)\n",
    "            data = pd.concat([data, data_encoded], axis=1)\n",
    "            data.pop(column)\n",
    "            \"\"\"\n",
    "    miss_occ_as_nr = data.loc[occupation_indices[0],\"occupation\"]\n",
    "    miss_reg_as_nr = data.loc[region_indices[0],\"region\"]\n",
    "    data['occupation'] = data['occupation'].replace({miss_occ_as_nr:None})\n",
    "    data['region'] = data['region'].replace({miss_reg_as_nr:None})\"\"\"\n",
    "    data.drop(columns=['sex_Male', 'fnlwgt'], inplace=True)\n",
    "   \n",
    "    Y = data.loc[:,'income']\n",
    "    X = data.drop(columns=\"income\")\n",
    "    \n",
    "    return X, Y, encoder_dict, to_compare"
   ]
  },
  {
   "cell_type": "code",
   "execution_count": 116,
   "metadata": {},
   "outputs": [],
   "source": [
    "x, y, dict, comp = dummies(df_train)"
   ]
  },
  {
   "cell_type": "code",
   "execution_count": 117,
   "metadata": {},
   "outputs": [
    {
     "data": {
      "text/plain": [
       "Index(['education-num', 'capital', 'hours-per-week', 'age_0-17', 'age_18-24',\n",
       "       'age_25-30', 'age_31-40', 'age_41-50', 'age_51-60', 'age_61-70',\n",
       "       'age_71+', 'age_nan', 'workclass_Federal-gov', 'workclass_Local-gov',\n",
       "       'workclass_Never-worked', 'workclass_Private', 'workclass_Self-emp-inc',\n",
       "       'workclass_Self-emp-not-inc', 'workclass_State-gov',\n",
       "       'workclass_Without-pay', 'workclass_nan', 'marital-status_Divorced',\n",
       "       'marital-status_Married-AF-spouse', 'marital-status_Married-civ-spouse',\n",
       "       'marital-status_Married-spouse-absent', 'marital-status_Never-married',\n",
       "       'marital-status_Separated', 'marital-status_Widowed',\n",
       "       'marital-status_nan', 'occupation_Adm-clerical',\n",
       "       'occupation_Armed-Forces', 'occupation_Craft-repair',\n",
       "       'occupation_Exec-managerial', 'occupation_Farming-fishing',\n",
       "       'occupation_Handlers-cleaners', 'occupation_Machine-op-inspct',\n",
       "       'occupation_Other-service', 'occupation_Priv-house-serv',\n",
       "       'occupation_Prof-specialty', 'occupation_Protective-serv',\n",
       "       'occupation_Sales', 'occupation_Tech-support',\n",
       "       'occupation_Transport-moving', 'occupation_nan', 'relationship_Husband',\n",
       "       'relationship_Not-in-family', 'relationship_Other-relative',\n",
       "       'relationship_Own-child', 'relationship_Unmarried', 'relationship_Wife',\n",
       "       'relationship_nan', 'race_Amer-Indian-Eskimo',\n",
       "       'race_Asian-Pac-Islander', 'race_Black', 'race_Other', 'race_White',\n",
       "       'race_nan', 'sex_Female', 'sex_nan', 'region_Canada',\n",
       "       'region_Central Europe', 'region_East Asia', 'region_East Europe',\n",
       "       'region_Mexico', 'region_Middle America', 'region_South America',\n",
       "       'region_South Asia', 'region_South Europe', 'region_Southeast Asia',\n",
       "       'region_United-States', 'region_West Asia', 'region_West Europe',\n",
       "       'region_nan'],\n",
       "      dtype='object')"
      ]
     },
     "execution_count": 117,
     "metadata": {},
     "output_type": "execute_result"
    }
   ],
   "source": [
    "x.columns"
   ]
  },
  {
   "cell_type": "code",
   "execution_count": 106,
   "metadata": {},
   "outputs": [
    {
     "data": {
      "text/plain": [
       "age                 0\n",
       "workclass           0\n",
       "fnlwgt              0\n",
       "education-num       0\n",
       "marital-status      0\n",
       "occupation          9\n",
       "relationship        0\n",
       "race                0\n",
       "sex                 0\n",
       "capital             0\n",
       "hours-per-week      0\n",
       "region            770\n",
       "income              0\n",
       "dtype: int64"
      ]
     },
     "execution_count": 106,
     "metadata": {},
     "output_type": "execute_result"
    }
   ],
   "source": [
    "df_train.isnull().sum()"
   ]
  },
  {
   "cell_type": "code",
   "execution_count": 113,
   "metadata": {},
   "outputs": [
    {
     "data": {
      "text/plain": [
       "770"
      ]
     },
     "execution_count": 113,
     "metadata": {},
     "output_type": "execute_result"
    }
   ],
   "source": [
    "pd.get_dummies(df_train['region'], dummy_na=True, prefix='region')['region_nan'].sum()"
   ]
  },
  {
   "cell_type": "code",
   "execution_count": null,
   "metadata": {},
   "outputs": [],
   "source": []
  }
 ],
 "metadata": {
  "kernelspec": {
   "display_name": "DM_venv",
   "language": "python",
   "name": "python3"
  },
  "language_info": {
   "codemirror_mode": {
    "name": "ipython",
    "version": 3
   },
   "file_extension": ".py",
   "mimetype": "text/x-python",
   "name": "python",
   "nbconvert_exporter": "python",
   "pygments_lexer": "ipython3",
   "version": "3.12.0"
  }
 },
 "nbformat": 4,
 "nbformat_minor": 2
}
