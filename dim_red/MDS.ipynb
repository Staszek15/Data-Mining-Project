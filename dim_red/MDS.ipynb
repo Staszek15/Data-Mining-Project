{
 "cells": [
  {
   "cell_type": "code",
   "execution_count": 9,
   "metadata": {},
   "outputs": [],
   "source": [
    "import pandas as pd\n",
    "import numpy as np\n",
    "\n",
    "import matplotlib.pyplot as plt\n",
    "import seaborn as sns\n",
    "\n",
    "from pathlib import Path\n",
    "\n",
    "from sklearn.manifold import MDS\n",
    "\n",
    "from scipy.spatial.distance import pdist, squareform\n"
   ]
  },
  {
   "cell_type": "code",
   "execution_count": 6,
   "metadata": {},
   "outputs": [],
   "source": [
    "sns.set_style('whitegrid')\n",
    "sns.set_palette('pastel')\n",
    "palette = sns.color_palette(\"Greens\", n_colors=8)\n",
    "plt.rcParams['figure.figsize'] = (6,4)\n",
    "plt.rcParams['axes.prop_cycle'] = plt.cycler(color=[palette[3]])"
   ]
  },
  {
   "cell_type": "code",
   "execution_count": 7,
   "metadata": {},
   "outputs": [],
   "source": [
    "train_ohs = pd.read_csv(Path('..','adults_data','adults_ohs_train.csv'))\n",
    "test_ohs = pd.read_csv(Path('..','adults_data','adults_ohs_test.csv'))\n",
    "\n",
    "train_ohn = pd.read_csv(Path('..','adults_data','adults_ohn_train.csv'))\n",
    "test_ohn = pd.read_csv(Path('..','adults_data','adults_ohn_test.csv'))"
   ]
  },
  {
   "cell_type": "code",
   "execution_count": 10,
   "metadata": {},
   "outputs": [],
   "source": [
    "distance_matrix = pdist(train_ohs, metric='euclidean')\n",
    "distance_matrix_square = squareform(distance_matrix)"
   ]
  },
  {
   "cell_type": "code",
   "execution_count": 12,
   "metadata": {},
   "outputs": [],
   "source": [
    "mds = MDS(n_components=2, dissimilarity=\"precomputed\", random_state=42)\n",
    "embedding = mds.fit_transform(distance_matrix_square)\n",
    "\n",
    "print(embedding)\n"
   ]
  },
  {
   "cell_type": "code",
   "execution_count": null,
   "metadata": {},
   "outputs": [],
   "source": [
    "def calculate_stress(dissimilarities, max_dims=10):\n",
    "    stresses = []\n",
    "    for dim in range(1, max_dims + 1):\n",
    "        mds = MDS(n_components=dim, dissimilarity=\"precomputed\", random_state=42)\n",
    "        mds.fit_transform(dissimilarities)\n",
    "        stresses.append(mds.stress_)\n",
    "    return stresses\n",
    "\n",
    "# Oblicz stres dla różnych liczby wymiarów\n",
    "stresses = calculate_stress(distance_matrix_square)\n",
    "\n",
    "# Wyświetl wyniki\n",
    "for dim, stress in enumerate(stresses, start=1):\n",
    "    print(f\"Wymiary: {dim}, Stres: {stress:.4f}\")"
   ]
  },
  {
   "cell_type": "code",
   "execution_count": null,
   "metadata": {},
   "outputs": [],
   "source": [
    "# Wizualizacja stresu\n",
    "plt.plot(range(1, len(stresses) + 1), stresses, marker='o')\n",
    "plt.xlabel('Liczba wymiarów')\n",
    "plt.ylabel('Stres')\n",
    "plt.title('Stres w funkcji liczby wymiarów')\n",
    "plt.grid(True)\n",
    "plt.show()\n"
   ]
  },
  {
   "cell_type": "code",
   "execution_count": null,
   "metadata": {},
   "outputs": [],
   "source": [
    "label_fontsize = 18\n",
    "tick_fontsize = 13\n",
    "\n",
    "\n",
    "plt.figure(figsize=(10, 6))\n",
    "x_axis = range(1, len(cumulative_variance) + 1)\n",
    "plt.plot(x_axis, cumulative_variance, marker='o', linestyle='--', color=palette[5], label='Cumulative Explained Variance')\n",
    "plt.plot(x_axis, [0.9] * len(x_axis), color='red', linestyle='--', label='90% Explained Variance')\n",
    "plt.plot(x_axis, [0.95] * len(x_axis), color='blue', linestyle='--', label='95% Explained Variance')\n",
    "#plt.title('Cumulative Explained Variance by Principal Components')\n",
    "plt.xlabel('Number of Principal Components', \n",
    "            fontsize=label_fontsize)\n",
    "plt.ylabel('Cumulative Explained Variance', \n",
    "            fontsize=label_fontsize)\n",
    "plt.grid(True)\n",
    "plt.legend()\n",
    "plt.tight_layout()\n",
    "plt.tick_params(axis='both', labelsize=tick_fontsize)\n",
    "plt.savefig(Path('..','plots',f'PCA_lines_{standard_type}.pdf'), \n",
    "            format='pdf', bbox_inches='tight')\n",
    "plt.show()\n",
    "\n",
    "k_90 = next(i for (i, var) in enumerate(cumulative_variance) if var >= 0.90) + 1\n",
    "k_95 = next(i for (i, var) in enumerate(cumulative_variance) if var >= 0.95) + 1\n",
    "\n",
    "print('90% '+str(k_90), '95% '+str(k_95))\n",
    "\n",
    "optimal_PCA = PCA(n_components=k_95)\n",
    "reduced_train = pd.DataFrame(optimal_PCA.fit_transform(train))  \n",
    "reduced_train.to_csv(Path('..','adults_data',\n",
    "                            f'PCA_{standard_type}_train.csv'))\n",
    "reduced_test = optimal_PCA.transform(test)\n",
    "reduced_test_df = pd.DataFrame(reduced_test)\n",
    "reduced_test_df.to_csv(Path('..','adults_data',\n",
    "                            f'PCA_{standard_type}_test.csv'))\n",
    "\n",
    "explained_variance_test = np.var(reduced_test, axis=0) / np.sum(np.var(test, axis=0))\n",
    "explained_variance_test_ratio = np.cumsum(explained_variance_test)\n",
    "print(f'Explained variance of a test set is {explained_variance_test_ratio[k_90-1]}.')\n",
    "\n",
    "plt.figure(figsize=(10, 6))\n",
    "plt.bar(range(1, k_95 + 1), explained_variance[:k_95], color=palette[2], alpha=0.7, label='Explained Variance')\n",
    "plt.step(range(1, k_95 + 1), cumulative_variance[:k_95], where='mid', color=palette[5], linestyle='--', label='Cumulative Explained Variance')\n",
    "#plt.title('Explained Variance by Principal Components')\n",
    "plt.xlabel('Principal Component', \n",
    "            fontsize=label_fontsize)\n",
    "plt.ylabel('Explained Variance Ratio', \n",
    "            fontsize=label_fontsize)\n",
    "plt.grid(True)\n",
    "plt.legend()\n",
    "plt.tick_params(axis='both', labelsize=tick_fontsize)\n",
    "plt.tight_layout()\n",
    "plt.savefig(Path('..','plots',f'PCA_steps_{standard_type}.pdf'), \n",
    "            format='pdf', bbox_inches='tight')\n",
    "plt.show()"
   ]
  }
 ],
 "metadata": {
  "kernelspec": {
   "display_name": "DM_venv",
   "language": "python",
   "name": "python3"
  },
  "language_info": {
   "codemirror_mode": {
    "name": "ipython",
    "version": 3
   },
   "file_extension": ".py",
   "mimetype": "text/x-python",
   "name": "python",
   "nbconvert_exporter": "python",
   "pygments_lexer": "ipython3",
   "version": "3.12.0"
  }
 },
 "nbformat": 4,
 "nbformat_minor": 2
}
