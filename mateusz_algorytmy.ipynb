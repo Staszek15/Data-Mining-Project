{
 "cells": [
  {
   "cell_type": "code",
   "execution_count": 34,
   "metadata": {},
   "outputs": [],
   "source": [
    "import numpy as np"
   ]
  },
  {
   "cell_type": "code",
   "execution_count": 90,
   "metadata": {},
   "outputs": [],
   "source": [
    "number = 526\n",
    "number_copied = number\n",
    "#sum of digits\n",
    "\n",
    "sum = 0\n",
    "while number_copied > 0:\n",
    "    sum += number_copied % 10\n",
    "    number_copied = number_copied // 10\n",
    "\n",
    "sum2 = sum * 2\n",
    "\n"
   ]
  },
  {
   "cell_type": "markdown",
   "metadata": {},
   "source": [
    "### znajdujemy z ilu składa się cyfr"
   ]
  },
  {
   "cell_type": "code",
   "execution_count": 70,
   "metadata": {},
   "outputs": [
    {
     "data": {
      "text/plain": [
       "'if number > 99 or sum2 - 9 > 9:\\n    digits_num = 3\\nelif number > 9 or sum2 - 9 > 0:\\n    digits_num = 2\\nelse:\\n    digits_num = 1'"
      ]
     },
     "execution_count": 70,
     "metadata": {},
     "output_type": "execute_result"
    }
   ],
   "source": [
    "\"\"\"if number > 99 or sum2 - 9 > 9:\n",
    "    digits_num = 3\n",
    "elif number > 9 or sum2 - 9 > 0:\n",
    "    digits_num = 2\n",
    "else:\n",
    "    digits_num = 1\"\"\""
   ]
  },
  {
   "cell_type": "code",
   "execution_count": 71,
   "metadata": {},
   "outputs": [
    {
     "data": {
      "text/plain": [
       "'hundreds = number // 100\\ntens = (number - hundreds) // 10\\nunits = number - hundreds - tens\\n\\nif digits_num == 1:\\n    units = sum2\\nelif digits_num == 2:\\n    while sum2 - tens > 9:\\n        tens += 1\\n    units = sum2 - tens\\nelse:\\n    while sum2 - hundreds > 99:\\n        hundreds += 1\\n    sum_for_two = sum2 - hundreds\\n    while sum_for_two - tens > 9:\\n        tens +=1\\n    units = sum_for_two - tens\\n\\nwanted = int(str(hundreds) + str(tens) + str(units))'"
      ]
     },
     "execution_count": 71,
     "metadata": {},
     "output_type": "execute_result"
    }
   ],
   "source": [
    "\"\"\"hundreds = number // 100\n",
    "tens = (number - hundreds) // 10\n",
    "units = number - hundreds - tens\n",
    "\n",
    "if digits_num == 1:\n",
    "    units = sum2\n",
    "elif digits_num == 2:\n",
    "    while sum2 - tens > 9:\n",
    "        tens += 1\n",
    "    units = sum2 - tens\n",
    "else:\n",
    "    while sum2 - hundreds > 99:\n",
    "        hundreds += 1\n",
    "    sum_for_two = sum2 - hundreds\n",
    "    while sum_for_two - tens > 9:\n",
    "        tens +=1\n",
    "    units = sum_for_two - tens\n",
    "\n",
    "wanted = int(str(hundreds) + str(tens) + str(units))\"\"\""
   ]
  },
  {
   "cell_type": "code",
   "execution_count": 73,
   "metadata": {},
   "outputs": [
    {
     "data": {
      "text/plain": [
       "'number4digits = str(number).zfill(4)\\nprint(number4digits)  # Output: 0027'"
      ]
     },
     "execution_count": 73,
     "metadata": {},
     "output_type": "execute_result"
    }
   ],
   "source": [
    "\"\"\"number4digits = str(number).zfill(4)\n",
    "print(number4digits)  # Output: 0027\"\"\""
   ]
  },
  {
   "cell_type": "code",
   "execution_count": 72,
   "metadata": {},
   "outputs": [
    {
     "data": {
      "text/plain": [
       "'\\n\\nnumber4digits\\nthousands = int(number4digits[0])\\nhundreds = int(number4digits[1])\\ntens = int(number4digits[2])\\nunits = int(number4digits[3])\\n\\nwhile sum2 - thousands > 27:\\n    thousands += 1\\nsum_for_3 = sum2 - thousands\\n\\nwhile sum_for_3 - hundreds > 18:\\n    hundreds += 1\\nsum_for_2 = sum_for_3 - hundreds\\n\\nwhile sum_for_2 - tens > 27:\\n    tens += 1\\n\\nunits = sum_for_2 - tens\\n\\nwanted = int(str(hundreds) + str(hundreds) + str(tens) + str(units))\\n'"
      ]
     },
     "execution_count": 72,
     "metadata": {},
     "output_type": "execute_result"
    }
   ],
   "source": [
    "\"\"\"\n",
    "\n",
    "number4digits\n",
    "thousands = int(number4digits[0])\n",
    "hundreds = int(number4digits[1])\n",
    "tens = int(number4digits[2])\n",
    "units = int(number4digits[3])\n",
    "\n",
    "while sum2 - thousands > 27:\n",
    "    thousands += 1\n",
    "sum_for_3 = sum2 - thousands\n",
    "\n",
    "while sum_for_3 - hundreds > 18:\n",
    "    hundreds += 1\n",
    "sum_for_2 = sum_for_3 - hundreds\n",
    "\n",
    "while sum_for_2 - tens > 27:\n",
    "    tens += 1\n",
    "\n",
    "units = sum_for_2 - tens\n",
    "\n",
    "wanted = int(str(hundreds) + str(hundreds) + str(tens) + str(units))\n",
    "\"\"\""
   ]
  },
  {
   "cell_type": "code",
   "execution_count": 91,
   "metadata": {},
   "outputs": [
    {
     "name": "stdout",
     "output_type": "stream",
     "text": [
      "16 9\n",
      "9\n",
      "8\n"
     ]
    }
   ],
   "source": [
    "number4digits = str(number).zfill(4)\n",
    "\n",
    "number4digits\n",
    "thousands = int(number4digits[0])\n",
    "hundreds = int(number4digits[1])\n",
    "tens = int(number4digits[2])\n",
    "units = int(number4digits[3])\n",
    "\n",
    "tht = thousands + hundreds + tens\n",
    "while units < 9 and tht + units < sum2:\n",
    "    units += 1\n",
    "print(tht+units, units)\n",
    "thu = thousands + hundreds + units\n",
    "while tens < 9 and thu + tens < sum2:\n",
    "    tens += 1\n",
    "print(tens)\n",
    "ttu = thousands + tens + units\n",
    "while hundreds < 9 and ttu + hundreds < sum2:\n",
    "    hundreds += 1\n",
    "print(hundreds)\n",
    "htu = hundreds + tens + units\n",
    "thousands = sum2 - htu\n",
    "\"\"\"while thousands < 9 and htu + thousands <= sum2:\n",
    "    thousands += 1\"\"\"\n",
    "\n",
    "wanted = int(str(thousands) + str(hundreds) + str(tens) + str(units))\n"
   ]
  },
  {
   "cell_type": "code",
   "execution_count": 92,
   "metadata": {},
   "outputs": [
    {
     "data": {
      "text/plain": [
       "899"
      ]
     },
     "execution_count": 92,
     "metadata": {},
     "output_type": "execute_result"
    }
   ],
   "source": [
    "wanted"
   ]
  },
  {
   "cell_type": "code",
   "execution_count": 117,
   "metadata": {},
   "outputs": [],
   "source": [
    "def solution(number):\n",
    "    \n",
    "    copied_number = number\n",
    "    sum = 0\n",
    "    while copied_number > 0:\n",
    "        sum += copied_number % 10\n",
    "        copied_number = copied_number // 10\n",
    "\n",
    "    sum2 = sum * 2\n",
    "    \n",
    "    number4digits = str(number).zfill(5)\n",
    "\n",
    "    ten_th = int(number4digits[0])\n",
    "    thousands = int(number4digits[1])\n",
    "    hundreds = int(number4digits[2])\n",
    "    tens = int(number4digits[3])\n",
    "    units = int(number4digits[4])\n",
    "\n",
    "    ttht = ten_th + thousands + hundreds + tens\n",
    "    while units < 9 and ttht + units < sum2:\n",
    "        units += 1\n",
    "\n",
    "    tthu = ten_th + thousands + hundreds + units\n",
    "    while tens < 9 and tthu + tens < sum2:\n",
    "        tens += 1\n",
    "\n",
    "    tttu = ten_th + thousands + tens + units\n",
    "    while hundreds < 9 and tttu + hundreds < sum2:\n",
    "        hundreds += 1\n",
    "\n",
    "    thtu = ten_th + hundreds + tens + units    \n",
    "    \n",
    "    while thousands < 9 and thtu + thousands < sum2:\n",
    "        thousands += 1\n",
    "\n",
    "    ten_th = sum2 - thousands - hundreds - tens - units\n",
    "\n",
    "    wanted = int(str(ten_th) + str(thousands) + str(hundreds) + str(tens) + str(units))\n",
    "    \n",
    "    return wanted\n"
   ]
  },
  {
   "cell_type": "code",
   "execution_count": 121,
   "metadata": {},
   "outputs": [
    {
     "data": {
      "text/plain": [
       "59"
      ]
     },
     "execution_count": 121,
     "metadata": {},
     "output_type": "execute_result"
    }
   ],
   "source": [
    "solution(7)"
   ]
  },
  {
   "cell_type": "code",
   "execution_count": null,
   "metadata": {},
   "outputs": [],
   "source": []
  }
 ],
 "metadata": {
  "kernelspec": {
   "display_name": "DM_venv",
   "language": "python",
   "name": "python3"
  },
  "language_info": {
   "codemirror_mode": {
    "name": "ipython",
    "version": 3
   },
   "file_extension": ".py",
   "mimetype": "text/x-python",
   "name": "python",
   "nbconvert_exporter": "python",
   "pygments_lexer": "ipython3",
   "version": "3.12.0"
  }
 },
 "nbformat": 4,
 "nbformat_minor": 2
}
