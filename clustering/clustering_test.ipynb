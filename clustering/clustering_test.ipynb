{
 "cells": [
  {
   "cell_type": "code",
   "execution_count": 11,
   "metadata": {},
   "outputs": [],
   "source": [
    "import pandas as pd\n",
    "import numpy as np\n",
    "\n",
    "from pathlib import Path\n",
    "\n",
    "from sklearn.cluster import KMeans, AgglomerativeClustering\n",
    "from sklearn.metrics import silhouette_score, davies_bouldin_score, calinski_harabasz_score\n",
    "\n",
    "from sklearn_extra.cluster import KMedoids\n",
    "\n",
    "from kmodes.kprototypes import KPrototypes"
   ]
  },
  {
   "cell_type": "code",
   "execution_count": 3,
   "metadata": {},
   "outputs": [],
   "source": [
    "norm_train = pd.read_csv(Path('..','adults_data','adults_norm_train.csv'))\n",
    "norm_test = pd.read_csv(Path('..','adults_data','adults_norm_test.csv'))\n",
    "\n",
    "std_train = pd.read_csv(Path('..','adults_data','adults_std_train.csv'))\n",
    "std_test = pd.read_csv(Path('..','adults_data','adults_std_test.csv'))\n",
    "\n",
    "ohn_train = pd.read_csv(Path('..','adults_data','adults_ohn_train.csv'))\n",
    "ohn_test = pd.read_csv(Path('..','adults_data','adults_ohn_test.csv'))\n",
    "\n",
    "ohs_train = pd.read_csv(Path('..','adults_data','adults_ohs_train.csv'))\n",
    "ohs_test = pd.read_csv(Path('..','adults_data','adults_ohs_test.csv'))\n"
   ]
  },
  {
   "cell_type": "code",
   "execution_count": 9,
   "metadata": {},
   "outputs": [],
   "source": [
    "def optimal_K_means(train, test, opt_k, settype):\n",
    "    \n",
    "    kmeans = KMeans(n_clusters=opt_k, max_iter=5000, random_state=42)\n",
    "    kmeans.fit_predict(train)  \n",
    "    \n",
    "    test_clusters = kmeans.predict(test)\n",
    "    \n",
    "    silhouette_scores = silhouette_score(test, test_clusters)\n",
    "    db_scores = davies_bouldin_score(test, test_clusters)\n",
    "    ch_scores = calinski_harabasz_score(test, test_clusters)\n",
    "    \n",
    "    measures = pd.DataFrame({'silh':[silhouette_scores],\n",
    "                            'dbi':[db_scores],\n",
    "                            'ch':[ch_scores]})\n",
    "\n",
    "    measures.index += 1\n",
    "    \n",
    "    measures.to_csv(f'kmeans_{opt_k}_{settype}.csv')"
   ]
  },
  {
   "cell_type": "code",
   "execution_count": null,
   "metadata": {},
   "outputs": [],
   "source": [
    "def optimal_K_medoids(train, test, opt_k, settype):\n",
    "    \n",
    "    kmedoids = KMedoids(n_clusters=opt_k, max_iter=5000, random_state=42)\n",
    "    kmedoids.fit_predict(train)  \n",
    "    \n",
    "    test_clusters = kmedoids.predict(test)\n",
    "    \n",
    "    silhouette_scores = silhouette_score(test, test_clusters)\n",
    "    db_scores = davies_bouldin_score(test, test_clusters)\n",
    "    ch_scores = calinski_harabasz_score(test, test_clusters)\n",
    "    \n",
    "    measures = pd.DataFrame({'silh':[silhouette_scores],\n",
    "                            'dbi':[db_scores],\n",
    "                            'ch':[ch_scores]})\n",
    "\n",
    "    measures.index += 1\n",
    "    \n",
    "    measures.to_csv(f'kmedoids_{opt_k}_{settype}.csv')"
   ]
  },
  {
   "cell_type": "code",
   "execution_count": 12,
   "metadata": {},
   "outputs": [],
   "source": [
    "def optimal_K_prototype(train, test, opt_k, settype):\n",
    "    \n",
    "    kprototype = KPrototypes(n_clusters=opt_k, max_iter=5000, random_state=42)\n",
    "    kprototype.fit_predict(train, categorical=[...])  # Replace [...] with categorical column indices\n",
    "    \n",
    "    test_clusters = kprototype.predict(test)\n",
    "    \n",
    "    silhouette_avg = silhouette_score(test, test_clusters)\n",
    "    db_score = davies_bouldin_score(test, test_clusters)\n",
    "    ch_score = calinski_harabasz_score(test, test_clusters)\n",
    "    \n",
    "    measures = pd.DataFrame({'silh':[silhouette_avg],\n",
    "                             'dbi':[db_score],\n",
    "                             'ch':[ch_score]})\n",
    "    \n",
    "    measures.index += 1\n",
    "    \n",
    "    measures.to_csv(f'kprototype_{opt_k}_{settype}.csv')\n",
    "\n",
    "    return measures"
   ]
  },
  {
   "cell_type": "code",
   "execution_count": 13,
   "metadata": {},
   "outputs": [],
   "source": [
    "def optimal_K_agglomerative(train, test, opt_k, settype):\n",
    "    \n",
    "    agglo = AgglomerativeClustering(n_clusters=opt_k)\n",
    "    train_clusters = agglo.fit_predict(train)\n",
    "    test_clusters = agglo.fit_predict(test)\n",
    "    \n",
    "    silhouette_avg = silhouette_score(test, test_clusters)\n",
    "    db_score = davies_bouldin_score(test, test_clusters)\n",
    "    ch_score = calinski_harabasz_score(test, test_clusters)\n",
    "    \n",
    "    measures = pd.DataFrame({'silh':[silhouette_avg],\n",
    "                             'dbi':[db_score],\n",
    "                             'ch':[ch_score]})\n",
    "    \n",
    "    measures.index += 1\n",
    "    \n",
    "    measures.to_csv(f'agglomerative_{opt_k}_{settype}.csv')\n",
    "\n",
    "    return measures"
   ]
  },
  {
   "cell_type": "code",
   "execution_count": null,
   "metadata": {},
   "outputs": [],
   "source": []
  }
 ],
 "metadata": {
  "kernelspec": {
   "display_name": "DM_venv",
   "language": "python",
   "name": "python3"
  },
  "language_info": {
   "codemirror_mode": {
    "name": "ipython",
    "version": 3
   },
   "file_extension": ".py",
   "mimetype": "text/x-python",
   "name": "python",
   "nbconvert_exporter": "python",
   "pygments_lexer": "ipython3",
   "version": "3.12.0"
  }
 },
 "nbformat": 4,
 "nbformat_minor": 2
}
