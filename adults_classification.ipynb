{
 "cells": [
  {
   "cell_type": "code",
   "execution_count": 31,
   "metadata": {},
   "outputs": [],
   "source": [
    "import pandas as pd\n",
    "import numpy as np\n",
    "import seaborn as sns\n",
    "import matplotlib.pyplot as plt\n",
    "from pathlib import Path\n",
    "\n",
    "from keras.models import Sequential\n",
    "from keras.layers import *\n",
    "from keras.optimizers.legacy import Adam\n",
    "from sklearn.model_selection import train_test_split\n",
    "import tensorflow as tf\n",
    "from sklearn.metrics import classification_report, accuracy_score, confusion_matrix, ConfusionMatrixDisplay\n",
    "from sklearn.preprocessing import MinMaxScaler\n",
    "\n",
    "from imblearn.over_sampling import RandomOverSampler\n",
    "from sklearn.linear_model import LogisticRegression\n",
    "\n",
    "sns.set_theme(rc={'figure.figsize':(16,8)})\n",
    "\n",
    "def plot_confusion_matrix(Y_test, predicted):\n",
    "    predicted = tf.squeeze(predicted)\n",
    "    predicted = np.array([1 if x >= 0.5 else 0 for x in predicted])\n",
    "    actual = np.array(Y_test)\n",
    "    conf_mat = confusion_matrix(actual, predicted)\n",
    "    displ = ConfusionMatrixDisplay(confusion_matrix=conf_mat)\n",
    "    displ.plot()\n",
    "\n",
    "\n",
    "def my_read_data(scale=False):\n",
    "    # Reads already cleaned data from .csv, scales if specified and returns X, Y values.\n",
    "\n",
    "    file_path = Path('adults_data','adult_cleaned_data.csv')\n",
    "    df = pd.read_csv(file_path)\n",
    "\n",
    "    X = df.iloc[:,:-1]\n",
    "    Y = df.iloc[:,-1]\n",
    "\n",
    "    if scale: pass\n",
    "\n",
    "    return X, Y"
   ]
  },
  {
   "cell_type": "markdown",
   "metadata": {},
   "source": [
    "* scaling\n",
    "* train test split\n",
    "* oversampling"
   ]
  },
  {
   "cell_type": "code",
   "execution_count": 20,
   "metadata": {},
   "outputs": [],
   "source": [
    "def main(epochs=200, batch_size=30, scale=True):\n",
    "\n",
    "    X, Y = my_read_data(scale)\n",
    "    X_train, X_test, Y_train, Y_test = train_test_split(X, Y, test_size=0.2, shuffle=True, random_state=45)\n",
    "\n",
    "    \n",
    "    X_train, X_test, Y_train, Y_test = train_test_split(X, Y, test_size=0.2, shuffle=True, random_state=45)\n",
    "\n",
    "    # Build\n",
    "    model = Sequential()\n",
    "    model.add(Dense(64, \"relu\", input_shape=(12,)))\n",
    "    model.add(Dense(16, \"relu\"))\n",
    "    model.add(Dense(1, 'sigmoid'))\n",
    "\n",
    "    # Compile \n",
    "    model.compile(loss=\"binary_crossentropy\", metrics=[\"accuracy\"], optimizer=Adam())\n",
    "    model.summary()\n",
    "\n",
    "    # Fit & Predict\n",
    "    model_fit = model.fit(X_train, Y_train, validation_split=0.15, batch_size=batch_size, epochs=epochs, verbose=True)    \n",
    "    predicted = model.predict(X_test)\n",
    "\n",
    "    # Get accuracy\n",
    "    train_accuracy = model_fit.history['accuracy']\n",
    "    val_accuracy = model_fit.history['val_accuracy']\n",
    "\n",
    "    # Plot accuracy\n",
    "    epochs = range(1, len(train_accuracy) + 1)\n",
    "    plt.ylim(0,1)\n",
    "    plt.plot(epochs, train_accuracy, label=\"Training set\")\n",
    "    plt.plot(epochs, val_accuracy, label=\"Validation set\")\n",
    "    plt.title('Training and Validation Accuracy')\n",
    "    plt.xlabel('Epochs')\n",
    "    plt.ylabel('Accuracy')\n",
    "    plt.legend()"
   ]
  },
  {
   "cell_type": "code",
   "execution_count": 29,
   "metadata": {},
   "outputs": [],
   "source": [
    "def classification_lr(scale=False, balance=False):\n",
    "    \n",
    "    X, Y = my_read_data(scale)\n",
    "\n",
    "    X_train, X_test, Y_train, Y_test = train_test_split(X, Y, test_size=0.2, shuffle=True, random_state=45)\n",
    "\n",
    "    if balance: pass\n",
    "\n",
    "    clf = LogisticRegression().fit(X_train, Y_test)\n",
    "    y_pred = clf.predict(X_test)\n",
    "    classif_rep_im = classification_report(Y_test, y_pred)\n",
    "    print(f'Accuracy imbalanced {accuracy_score(Y_test, y_pred):.2f}')\n",
    "    print(\"\\nClassification report for imbalanced data\\n\", classif_rep_im)\n",
    "    cm_im = ConfusionMatrixDisplay.from_estimator(clf, X_test, Y_test) \n",
    "    cm_im.ax_.set_title(\"Confusion matrix for imbalanced data\")\n",
    "    plt.show()"
   ]
  },
  {
   "cell_type": "code",
   "execution_count": null,
   "metadata": {},
   "outputs": [],
   "source": []
  }
 ],
 "metadata": {
  "kernelspec": {
   "display_name": "Python 3",
   "language": "python",
   "name": "python3"
  },
  "language_info": {
   "codemirror_mode": {
    "name": "ipython",
    "version": 3
   },
   "file_extension": ".py",
   "mimetype": "text/x-python",
   "name": "python",
   "nbconvert_exporter": "python",
   "pygments_lexer": "ipython3",
   "version": "3.11.6"
  }
 },
 "nbformat": 4,
 "nbformat_minor": 2
}
